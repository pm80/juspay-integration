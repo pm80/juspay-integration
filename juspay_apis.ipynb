{
 "cells": [
  {
   "cell_type": "code",
   "execution_count": 2,
   "metadata": {},
   "outputs": [],
   "source": [
    "from api.views import *"
   ]
  },
  {
   "cell_type": "code",
   "execution_count": 9,
   "metadata": {},
   "outputs": [
    {
     "data": {
      "text/plain": [
       "{'id': 'cst_4pl9eskh4kzanfev',\n",
       " 'object': 'customer',\n",
       " 'object_reference_id': 'cst_1111',\n",
       " 'mobile_country_code': '91',\n",
       " 'mobile_number': '8209922143',\n",
       " 'email_address': None,\n",
       " 'first_name': None,\n",
       " 'last_name': None,\n",
       " 'date_created': '2020-06-19T06:10:00Z',\n",
       " 'last_updated': '2020-06-19T06:10:00Z',\n",
       " 'juspay': {}}"
      ]
     },
     "execution_count": 9,
     "metadata": {},
     "output_type": "execute_result"
    }
   ],
   "source": [
    "Customer.create_customer(\"cst_1111\", \"wakefit\", 8209922143 )"
   ]
  },
  {
   "cell_type": "code",
   "execution_count": 10,
   "metadata": {},
   "outputs": [
    {
     "data": {
      "text/plain": [
       "{'object_reference_id': 'cst_1111',\n",
       " 'object': 'customer',\n",
       " 'mobile_number': '8209922143',\n",
       " 'mobile_country_code': '91',\n",
       " 'last_updated': '2020-06-19T06:10:00Z',\n",
       " 'last_name': None,\n",
       " 'id': 'cst_4pl9eskh4kzanfev',\n",
       " 'first_name': None,\n",
       " 'email_address': None,\n",
       " 'date_created': '2020-06-19T06:10:00Z'}"
      ]
     },
     "execution_count": 10,
     "metadata": {},
     "output_type": "execute_result"
    }
   ],
   "source": [
    "Customer.get_customer(\"cst_1111\", \"wakefit\")"
   ]
  },
  {
   "cell_type": "code",
   "execution_count": 28,
   "metadata": {},
   "outputs": [
    {
     "data": {
      "text/plain": [
       "{'status': 'CREATED',\n",
       " 'status_id': 1,\n",
       " 'id': 'ordeh_c6d319d41fd148538a9db797650220cb',\n",
       " 'order_id': 'ordeh_22',\n",
       " 'payment_links': {'iframe': 'https://sandbox.juspay.in/merchant/ipay/ordeh_c6d319d41fd148538a9db797650220cb',\n",
       "  'web': 'https://sandbox.juspay.in/merchant/pay/ordeh_c6d319d41fd148538a9db797650220cb',\n",
       "  'mobile': 'https://sandbox.juspay.in/merchant/pay/ordeh_c6d319d41fd148538a9db797650220cb?mobile=true'}}"
      ]
     },
     "execution_count": 28,
     "metadata": {},
     "output_type": "execute_result"
    }
   ],
   "source": [
    "Orders.create_order(\"ordeh_22\", 900, customer_id=\"cst_4pl9eskh4kzanfev\")"
   ]
  },
  {
   "cell_type": "code",
   "execution_count": 31,
   "metadata": {},
   "outputs": [
    {
     "data": {
      "text/plain": [
       "{'return_url': 'https://26f6aebb05cc.ngrok.io/juspayapp/payment-status/',\n",
       " 'customer_email': None,\n",
       " 'customer_phone': '8209922143',\n",
       " 'txn_id': 'wakefit-ordeh_22-1',\n",
       " 'payment_method_type': 'CARD',\n",
       " 'currency': 'INR',\n",
       " 'udf2': '',\n",
       " 'id': 'ordeh_c6d319d41fd148538a9db797650220cb',\n",
       " 'status_id': 21,\n",
       " 'amount': 900,\n",
       " 'udf1': '',\n",
       " 'refunded': False,\n",
       " 'customer_id': 'cst_4pl9eskh4kzanfev',\n",
       " 'udf6': '',\n",
       " 'udf5': '',\n",
       " 'amount_refunded': 0,\n",
       " 'udf4': '',\n",
       " 'udf3': '',\n",
       " 'card': {'expiry_year': '2020',\n",
       "  'card_reference': '',\n",
       "  'saved_to_locker': False,\n",
       "  'expiry_month': '10',\n",
       "  'name_on_card': '',\n",
       "  'card_issuer': '',\n",
       "  'last_four_digits': '',\n",
       "  'using_saved_card': False,\n",
       "  'card_fingerprint': '78g5l1fp62obpivbqsved6dsgb',\n",
       "  'card_isin': '424242',\n",
       "  'card_type': 'CREDIT',\n",
       "  'card_brand': 'VISA'},\n",
       " 'merchant_id': 'wakefit',\n",
       " 'auth_type': 'THREE_DS',\n",
       " 'payment_links': {'iframe': 'https://sandbox.juspay.in/merchant/ipay/ordeh_c6d319d41fd148538a9db797650220cb',\n",
       "  'web': 'https://sandbox.juspay.in/merchant/pay/ordeh_c6d319d41fd148538a9db797650220cb',\n",
       "  'mobile': 'https://sandbox.juspay.in/merchant/pay/ordeh_c6d319d41fd148538a9db797650220cb?mobile=true'},\n",
       " 'order_id': 'ordeh_22',\n",
       " 'status': 'CHARGED',\n",
       " 'bank_error_code': '0',\n",
       " 'udf7': '',\n",
       " 'udf8': '',\n",
       " 'udf9': '',\n",
       " 'product_id': '',\n",
       " 'bank_error_message': 'Payment Successful',\n",
       " 'txn_uuid': 'euljosMEHC9F47AjCsZ',\n",
       " 'date_created': '2020-06-19T07:34:44Z',\n",
       " 'payment_gateway_response': {'resp_code': '0',\n",
       "  'rrn': '466896',\n",
       "  'created': '2020-06-19T07:36:13Z',\n",
       "  'epg_txn_id': '1592552173930',\n",
       "  'resp_message': 'Payment Successful',\n",
       "  'auth_id_code': '426499',\n",
       "  'txn_id': 'wakefit-ordeh_22-1'},\n",
       " 'payment_method': 'VISA',\n",
       " 'udf10': '',\n",
       " 'gateway_id': 100}"
      ]
     },
     "execution_count": 31,
     "metadata": {},
     "output_type": "execute_result"
    }
   ],
   "source": [
    "Orders.get_order_status(\"ordeh_22\")"
   ]
  },
  {
   "cell_type": "code",
   "execution_count": 30,
   "metadata": {},
   "outputs": [
    {
     "data": {
      "text/plain": [
       "{'txn_uuid': 'euljosMEHC9F47AjCsZ',\n",
       " 'txn_id': 'wakefit-ordeh_22-1',\n",
       " 'status': 'PENDING_VBV',\n",
       " 'payment': {'authentication': {'url': 'https://sandbox.juspay.in/pay/start/wakefit/euljosMEHC9F47AjCsZ',\n",
       "   'method': 'GET'}},\n",
       " 'order_id': 'ordeh_22'}"
      ]
     },
     "execution_count": 30,
     "metadata": {},
     "output_type": "execute_result"
    }
   ],
   "source": [
    "Payments.card(order_id=\"ordeh_22\", merchant_id=\"wakefit\", card_number=4242424242424242, card_exp_year=2020, card_exp_month=10, card_security_code=111)"
   ]
  },
  {
   "cell_type": "code",
   "execution_count": null,
   "metadata": {},
   "outputs": [],
   "source": []
  }
 ],
 "metadata": {
  "kernelspec": {
   "display_name": "Django Shell-Plus",
   "language": "python",
   "name": "django_extensions"
  },
  "language_info": {
   "codemirror_mode": {
    "name": "ipython",
    "version": 3
   },
   "file_extension": ".py",
   "mimetype": "text/x-python",
   "name": "python",
   "nbconvert_exporter": "python",
   "pygments_lexer": "ipython3",
   "version": "3.6.9"
  }
 },
 "nbformat": 4,
 "nbformat_minor": 4
}
