{
 "cells": [
  {
   "cell_type": "code",
   "execution_count": 2,
   "metadata": {},
   "outputs": [],
   "source": [
    "from api.views import *"
   ]
  },
  {
   "cell_type": "code",
   "execution_count": 9,
   "metadata": {},
   "outputs": [
    {
     "data": {
      "text/plain": [
       "{'id': 'cst_4pl9eskh4kzanfev',\n",
       " 'object': 'customer',\n",
       " 'object_reference_id': 'cst_1111',\n",
       " 'mobile_country_code': '91',\n",
       " 'mobile_number': '8209922143',\n",
       " 'email_address': None,\n",
       " 'first_name': None,\n",
       " 'last_name': None,\n",
       " 'date_created': '2020-06-19T06:10:00Z',\n",
       " 'last_updated': '2020-06-19T06:10:00Z',\n",
       " 'juspay': {}}"
      ]
     },
     "execution_count": 9,
     "metadata": {},
     "output_type": "execute_result"
    }
   ],
   "source": [
    "Customer.create_customer(\"cst_1111\", \"wakefit\", 8209922143 )"
   ]
  },
  {
   "cell_type": "code",
   "execution_count": 10,
   "metadata": {},
   "outputs": [
    {
     "data": {
      "text/plain": [
       "{'object_reference_id': 'cst_1111',\n",
       " 'object': 'customer',\n",
       " 'mobile_number': '8209922143',\n",
       " 'mobile_country_code': '91',\n",
       " 'last_updated': '2020-06-19T06:10:00Z',\n",
       " 'last_name': None,\n",
       " 'id': 'cst_4pl9eskh4kzanfev',\n",
       " 'first_name': None,\n",
       " 'email_address': None,\n",
       " 'date_created': '2020-06-19T06:10:00Z'}"
      ]
     },
     "execution_count": 10,
     "metadata": {},
     "output_type": "execute_result"
    }
   ],
   "source": [
    "Customer.get_customer(\"cst_1111\", \"wakefit\")"
   ]
  },
  {
   "cell_type": "code",
   "execution_count": 16,
   "metadata": {},
   "outputs": [
    {
     "data": {
      "text/plain": [
       "{'status': 'CREATED',\n",
       " 'status_id': 1,\n",
       " 'id': 'ordeh_4428dd269bce442684a75093b5bcc3c5',\n",
       " 'order_id': 'ordeh_16',\n",
       " 'payment_links': {'iframe': 'https://sandbox.juspay.in/merchant/ipay/ordeh_4428dd269bce442684a75093b5bcc3c5',\n",
       "  'web': 'https://sandbox.juspay.in/merchant/pay/ordeh_4428dd269bce442684a75093b5bcc3c5',\n",
       "  'mobile': 'https://sandbox.juspay.in/merchant/pay/ordeh_4428dd269bce442684a75093b5bcc3c5?mobile=true'}}"
      ]
     },
     "execution_count": 16,
     "metadata": {},
     "output_type": "execute_result"
    }
   ],
   "source": [
    "Orders.create_order(\"ordeh_16\", 1000, customer_id=\"cst_4pl9eskh4kzanfev\", udf1=\"hey\", udf2=\"hello\", udf3=\"pm80\")"
   ]
  },
  {
   "cell_type": "code",
   "execution_count": 19,
   "metadata": {},
   "outputs": [
    {
     "data": {
      "text/plain": [
       "{'return_url': 'https://26f6aebb05cc.ngrok.io/juspayapp/payment-status/',\n",
       " 'customer_email': None,\n",
       " 'customer_phone': '8209922143',\n",
       " 'currency': 'INR',\n",
       " 'udf2': 'hello',\n",
       " 'id': 'ordeh_4428dd269bce442684a75093b5bcc3c5',\n",
       " 'status_id': 10,\n",
       " 'amount': 1000,\n",
       " 'udf1': 'hey',\n",
       " 'customer_id': 'cst_4pl9eskh4kzanfev',\n",
       " 'refunded': False,\n",
       " 'udf6': '',\n",
       " 'udf5': '',\n",
       " 'udf4': '',\n",
       " 'udf3': 'pm80',\n",
       " 'amount_refunded': 0,\n",
       " 'merchant_id': 'wakefit',\n",
       " 'payment_links': {'iframe': 'https://sandbox.juspay.in/merchant/ipay/ordeh_4428dd269bce442684a75093b5bcc3c5',\n",
       "  'web': 'https://sandbox.juspay.in/merchant/pay/ordeh_4428dd269bce442684a75093b5bcc3c5',\n",
       "  'mobile': 'https://sandbox.juspay.in/merchant/pay/ordeh_4428dd269bce442684a75093b5bcc3c5?mobile=true'},\n",
       " 'order_id': 'ordeh_16',\n",
       " 'status': 'NEW',\n",
       " 'udf7': '',\n",
       " 'udf8': '',\n",
       " 'udf9': '',\n",
       " 'product_id': '',\n",
       " 'date_created': '2020-06-24T05:53:05Z',\n",
       " 'udf10': ''}"
      ]
     },
     "execution_count": 19,
     "metadata": {},
     "output_type": "execute_result"
    }
   ],
   "source": [
    "Orders.get_order_status(order_id=\"ordeh_16\")"
   ]
  },
  {
   "cell_type": "code",
   "execution_count": 5,
   "metadata": {},
   "outputs": [
    {
     "data": {
      "text/plain": [
       "{'txn_uuid': 'eulbzK5D2WahFjrfiKG',\n",
       " 'txn_id': 'wakefit-ordeh_13-2',\n",
       " 'status': 'PENDING_VBV',\n",
       " 'payment': {'authentication': {'url': 'https://sandbox.juspay.in/pay/start/wakefit/eulbzK5D2WahFjrfiKG',\n",
       "   'method': 'GET'}},\n",
       " 'order_id': 'ordeh_13'}"
      ]
     },
     "execution_count": 5,
     "metadata": {},
     "output_type": "execute_result"
    }
   ],
   "source": [
    "Payments.card(order_id=\"ordeh_13\", merchant_id=\"wakefit\", card_number=4242424242424242, card_exp_year=2020, card_exp_month=10, card_security_code=111)"
   ]
  },
  {
   "cell_type": "code",
   "execution_count": 13,
   "metadata": {},
   "outputs": [
    {
     "data": {
      "text/plain": [
       "{'txn_uuid': 'eulm2UipQV3ZhYZi1X7',\n",
       " 'txn_id': 'wakefit-ordeh_12-1',\n",
       " 'status': 'PENDING_VBV',\n",
       " 'payment': {'authentication': {'url': 'https://sandbox.juspay.in/pay/start/wakefit/eulm2UipQV3ZhYZi1X7',\n",
       "   'method': 'GET'}},\n",
       " 'order_id': 'ordeh_12'}"
      ]
     },
     "execution_count": 13,
     "metadata": {},
     "output_type": "execute_result"
    }
   ],
   "source": [
    "Payments.netbanking(order_id=\"ordeh_12\", merchant_id=\"wakefit\", payment_method=\"NB_DUMMY\")"
   ]
  },
  {
   "cell_type": "code",
   "execution_count": 11,
   "metadata": {},
   "outputs": [
    {
     "data": {
      "text/plain": [
       "{'payment_methods': [{'payment_method_type': 'NB',\n",
       "   'payment_method': 'NB_DUMMY',\n",
       "   'description': 'Dummy Bank',\n",
       "   'supported_reference_ids': []},\n",
       "  {'payment_method_type': 'CARD',\n",
       "   'payment_method': 'MASTER',\n",
       "   'description': 'Mastercard',\n",
       "   'supported_reference_ids': []},\n",
       "  {'payment_method_type': 'CARD',\n",
       "   'payment_method': 'VISA',\n",
       "   'description': 'Visa',\n",
       "   'supported_reference_ids': []}],\n",
       " 'emandate_payment_methods': []}"
      ]
     },
     "execution_count": 11,
     "metadata": {},
     "output_type": "execute_result"
    }
   ],
   "source": [
    "Payments.payment_methods(merchant_id=\"wakefit\")"
   ]
  },
  {
   "cell_type": "code",
   "execution_count": 6,
   "metadata": {},
   "outputs": [
    {
     "data": {
      "text/plain": [
       "{'status': 'NOT_FOUND', 'status_id': 40, 'order_id': 'guest_order'}"
      ]
     },
     "execution_count": 6,
     "metadata": {},
     "output_type": "execute_result"
    }
   ],
   "source": [
    "Orders.get_order_status(order_id=\"guest_order\")"
   ]
  },
  {
   "cell_type": "code",
   "execution_count": null,
   "metadata": {},
   "outputs": [],
   "source": []
  }
 ],
 "metadata": {
  "kernelspec": {
   "display_name": "Django Shell-Plus",
   "language": "python",
   "name": "django_extensions"
  },
  "language_info": {
   "codemirror_mode": {
    "name": "ipython",
    "version": 3
   },
   "file_extension": ".py",
   "mimetype": "text/x-python",
   "name": "python",
   "nbconvert_exporter": "python",
   "pygments_lexer": "ipython3",
   "version": "3.6.9"
  }
 },
 "nbformat": 4,
 "nbformat_minor": 4
}
