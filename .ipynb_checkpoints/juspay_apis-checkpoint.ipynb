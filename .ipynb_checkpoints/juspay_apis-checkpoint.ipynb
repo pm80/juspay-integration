{
 "cells": [
  {
   "cell_type": "code",
   "execution_count": 2,
   "metadata": {},
   "outputs": [],
   "source": [
    "from api.views import *"
   ]
  },
  {
   "cell_type": "code",
   "execution_count": 9,
   "metadata": {},
   "outputs": [
    {
     "data": {
      "text/plain": [
       "{'id': 'cst_4pl9eskh4kzanfev',\n",
       " 'object': 'customer',\n",
       " 'object_reference_id': 'cst_1111',\n",
       " 'mobile_country_code': '91',\n",
       " 'mobile_number': '8209922143',\n",
       " 'email_address': None,\n",
       " 'first_name': None,\n",
       " 'last_name': None,\n",
       " 'date_created': '2020-06-19T06:10:00Z',\n",
       " 'last_updated': '2020-06-19T06:10:00Z',\n",
       " 'juspay': {}}"
      ]
     },
     "execution_count": 9,
     "metadata": {},
     "output_type": "execute_result"
    }
   ],
   "source": [
    "Customer.create_customer(\"cst_1111\", \"wakefit\", 8209922143 )"
   ]
  },
  {
   "cell_type": "code",
   "execution_count": 10,
   "metadata": {},
   "outputs": [
    {
     "data": {
      "text/plain": [
       "{'object_reference_id': 'cst_1111',\n",
       " 'object': 'customer',\n",
       " 'mobile_number': '8209922143',\n",
       " 'mobile_country_code': '91',\n",
       " 'last_updated': '2020-06-19T06:10:00Z',\n",
       " 'last_name': None,\n",
       " 'id': 'cst_4pl9eskh4kzanfev',\n",
       " 'first_name': None,\n",
       " 'email_address': None,\n",
       " 'date_created': '2020-06-19T06:10:00Z'}"
      ]
     },
     "execution_count": 10,
     "metadata": {},
     "output_type": "execute_result"
    }
   ],
   "source": [
    "Customer.get_customer(\"cst_1111\", \"wakefit\")"
   ]
  },
  {
   "cell_type": "code",
   "execution_count": 6,
   "metadata": {},
   "outputs": [
    {
     "data": {
      "text/plain": [
       "{'status': 'CREATED',\n",
       " 'status_id': 1,\n",
       " 'id': 'ordeh_3386cb9a1a924c5f8cf79663c9c202dd',\n",
       " 'order_id': 'ordeh_33',\n",
       " 'payment_links': {'iframe': 'https://sandbox.juspay.in/merchant/ipay/ordeh_3386cb9a1a924c5f8cf79663c9c202dd',\n",
       "  'web': 'https://sandbox.juspay.in/merchant/pay/ordeh_3386cb9a1a924c5f8cf79663c9c202dd',\n",
       "  'mobile': 'https://sandbox.juspay.in/merchant/pay/ordeh_3386cb9a1a924c5f8cf79663c9c202dd?mobile=true'}}"
      ]
     },
     "execution_count": 6,
     "metadata": {},
     "output_type": "execute_result"
    }
   ],
   "source": [
    "Orders.create_order(\"ordeh_33\", 900, customer_id=\"cst_4pl9eskh4kzanfev\")"
   ]
  },
  {
   "cell_type": "code",
   "execution_count": 3,
   "metadata": {},
   "outputs": [
    {
     "data": {
      "text/plain": [
       "{'merchant_id': 'wakefit',\n",
       " 'order_id': 'ordeh_22',\n",
       " 'id': 'ordeh_c6d319d41fd148538a9db797650220cb',\n",
       " 'customer_id': 'cst_4pl9eskh4kzanfev',\n",
       " 'customer_email': None,\n",
       " 'customer_phone': '8209922143',\n",
       " 'product_id': '',\n",
       " 'status': 'CHARGED',\n",
       " 'status_id': 21,\n",
       " 'amount': 900,\n",
       " 'currency': 'INR',\n",
       " 'refunded': False,\n",
       " 'date_created': '2020-06-19T07:34:44Z',\n",
       " 'return_url': 'https://26f6aebb05cc.ngrok.io/juspayapp/payment-status/',\n",
       " 'amount_refunded': 0,\n",
       " 'udf1': '',\n",
       " 'udf2': '',\n",
       " 'udf3': '',\n",
       " 'udf4': '',\n",
       " 'udf5': '',\n",
       " 'udf6': '',\n",
       " 'udf7': '',\n",
       " 'udf8': '',\n",
       " 'udf9': '',\n",
       " 'udf10': '',\n",
       " 'payment_links': {'web': 'https://sandbox.juspay.in/merchant/pay/ordeh_c6d319d41fd148538a9db797650220cb',\n",
       "  'mobile': 'https://sandbox.juspay.in/merchant/pay/ordeh_c6d319d41fd148538a9db797650220cb?mobile=true',\n",
       "  'iframe': 'https://sandbox.juspay.in/merchant/ipay/ordeh_c6d319d41fd148538a9db797650220cb'},\n",
       " 'txn_id': 'wakefit-ordeh_22-1',\n",
       " 'txn_uuid': 'euljosMEHC9F47AjCsZ',\n",
       " 'gateway_id': 100,\n",
       " 'bank_error_code': '0',\n",
       " 'bank_error_message': 'Payment Successful',\n",
       " 'payment_method_type': 'CARD',\n",
       " 'payment_method': 'VISA',\n",
       " 'card': {'last_four_digits': '',\n",
       "  'card_isin': '424242',\n",
       "  'expiry_month': '10',\n",
       "  'expiry_year': '2020',\n",
       "  'name_on_card': '',\n",
       "  'card_type': 'CREDIT',\n",
       "  'card_issuer': '',\n",
       "  'card_brand': 'VISA',\n",
       "  'card_reference': '',\n",
       "  'card_fingerprint': '78g5l1fp62obpivbqsved6dsgb',\n",
       "  'using_saved_card': False,\n",
       "  'saved_to_locker': False},\n",
       " 'auth_type': 'THREE_DS',\n",
       " 'payment_gateway_response': {'created': '2020-06-19T07:36:14Z',\n",
       "  'rrn': '466896',\n",
       "  'auth_id_code': '426499',\n",
       "  'epg_txn_id': '1592552173930',\n",
       "  'txn_id': 'wakefit-ordeh_22-1',\n",
       "  'resp_code': '0',\n",
       "  'resp_message': 'Payment Successful'}}"
      ]
     },
     "execution_count": 3,
     "metadata": {},
     "output_type": "execute_result"
    }
   ],
   "source": [
    "Orders.get_order_status(\"ordeh_22\")"
   ]
  },
  {
   "cell_type": "code",
   "execution_count": 30,
   "metadata": {},
   "outputs": [
    {
     "data": {
      "text/plain": [
       "{'txn_uuid': 'euljosMEHC9F47AjCsZ',\n",
       " 'txn_id': 'wakefit-ordeh_22-1',\n",
       " 'status': 'PENDING_VBV',\n",
       " 'payment': {'authentication': {'url': 'https://sandbox.juspay.in/pay/start/wakefit/euljosMEHC9F47AjCsZ',\n",
       "   'method': 'GET'}},\n",
       " 'order_id': 'ordeh_22'}"
      ]
     },
     "execution_count": 30,
     "metadata": {},
     "output_type": "execute_result"
    }
   ],
   "source": [
    "Payments.card(order_id=\"ordeh_22\", merchant_id=\"wakefit\", card_number=4242424242424242, card_exp_year=2020, card_exp_month=10, card_security_code=111)"
   ]
  },
  {
   "cell_type": "code",
   "execution_count": 5,
   "metadata": {},
   "outputs": [
    {
     "data": {
      "text/plain": [
       "{'merchant_id': 'wakefit',\n",
       " 'order_id': 'ordeh_22',\n",
       " 'id': 'ordeh_c6d319d41fd148538a9db797650220cb',\n",
       " 'customer_id': 'cst_4pl9eskh4kzanfev',\n",
       " 'customer_email': None,\n",
       " 'customer_phone': '8209922143',\n",
       " 'product_id': '',\n",
       " 'status': 'CHARGED',\n",
       " 'status_id': 21,\n",
       " 'amount': 900,\n",
       " 'currency': 'INR',\n",
       " 'refunded': False,\n",
       " 'date_created': '2020-06-19T07:34:44Z',\n",
       " 'return_url': 'https://26f6aebb05cc.ngrok.io/juspayapp/payment-status/',\n",
       " 'amount_refunded': 800,\n",
       " 'udf1': '',\n",
       " 'udf2': '',\n",
       " 'udf3': '',\n",
       " 'udf4': '',\n",
       " 'udf5': '',\n",
       " 'udf6': '',\n",
       " 'udf7': '',\n",
       " 'udf8': '',\n",
       " 'udf9': '',\n",
       " 'udf10': '',\n",
       " 'payment_links': {'web': 'https://sandbox.juspay.in/merchant/pay/ordeh_c6d319d41fd148538a9db797650220cb',\n",
       "  'mobile': 'https://sandbox.juspay.in/merchant/pay/ordeh_c6d319d41fd148538a9db797650220cb?mobile=true',\n",
       "  'iframe': 'https://sandbox.juspay.in/merchant/ipay/ordeh_c6d319d41fd148538a9db797650220cb'},\n",
       " 'txn_id': 'wakefit-ordeh_22-1',\n",
       " 'txn_uuid': 'euljosMEHC9F47AjCsZ',\n",
       " 'gateway_id': 100,\n",
       " 'gateway_reference_id': None,\n",
       " 'bank_error_code': '0',\n",
       " 'bank_error_message': 'Payment Successful',\n",
       " 'txn_detail': {'txn_id': 'wakefit-ordeh_22-1',\n",
       "  'order_id': 'ordeh_22',\n",
       "  'txn_uuid': 'euljosMEHC9F47AjCsZ',\n",
       "  'gateway_id': 100,\n",
       "  'status': 'CHARGED',\n",
       "  'gateway': 'DUMMY',\n",
       "  'express_checkout': False,\n",
       "  'redirect': True,\n",
       "  'net_amount': 900,\n",
       "  'surcharge_amount': None,\n",
       "  'tax_amount': None,\n",
       "  'txn_amount': 900,\n",
       "  'currency': 'INR',\n",
       "  'error_message': 'Payment Successful',\n",
       "  'error_code': '0',\n",
       "  'created': '2020-06-19T07:35:40Z'},\n",
       " 'payment_method_type': 'CARD',\n",
       " 'payment_method': 'VISA',\n",
       " 'card': {'last_four_digits': '',\n",
       "  'card_isin': '424242',\n",
       "  'expiry_month': '10',\n",
       "  'expiry_year': '2020',\n",
       "  'name_on_card': '',\n",
       "  'card_type': 'CREDIT',\n",
       "  'card_issuer': '',\n",
       "  'card_brand': 'VISA',\n",
       "  'card_reference': '',\n",
       "  'card_fingerprint': '78g5l1fp62obpivbqsved6dsgb',\n",
       "  'using_saved_card': False,\n",
       "  'saved_to_locker': False},\n",
       " 'auth_type': 'THREE_DS',\n",
       " 'refunds': [{'id': None,\n",
       "   'ref': None,\n",
       "   'created': '2020-06-19T11:25:48Z',\n",
       "   'amount': 800,\n",
       "   'unique_request_id': 'reqid_11',\n",
       "   'status': 'PENDING',\n",
       "   'error_message': '',\n",
       "   'initiated_by': 'API',\n",
       "   'refund_type': 'STANDARD',\n",
       "   'refund_source': 'DUMMY',\n",
       "   'sent_to_gateway': False}],\n",
       " 'payment_gateway_response': {'created': '2020-06-19T07:36:14Z',\n",
       "  'rrn': '466896',\n",
       "  'auth_id_code': '426499',\n",
       "  'epg_txn_id': '1592552173930',\n",
       "  'txn_id': 'wakefit-ordeh_22-1',\n",
       "  'resp_code': '0',\n",
       "  'resp_message': 'Payment Successful'}}"
      ]
     },
     "execution_count": 5,
     "metadata": {},
     "output_type": "execute_result"
    }
   ],
   "source": [
    "Orders.refund_order(order_id=\"ordeh_22\", unique_request_id=\"reqid_11\", amount=800)"
   ]
  },
  {
   "cell_type": "code",
   "execution_count": 7,
   "metadata": {},
   "outputs": [
    {
     "data": {
      "text/plain": [
       "{'status': 'invalid_request_error',\n",
       " 'error_message': 'Payment method cannot be null',\n",
       " 'error_code': 'missing_payment_method'}"
      ]
     },
     "execution_count": 7,
     "metadata": {},
     "output_type": "execute_result"
    }
   ],
   "source": [
    "Payments.netbanking(order_id=\"ordeh_33\", merchant_id=\"wakefit\", payment_method=\"NB_DUMMY\")"
   ]
  },
  {
   "cell_type": "code",
   "execution_count": null,
   "metadata": {},
   "outputs": [],
   "source": []
  }
 ],
 "metadata": {
  "kernelspec": {
   "display_name": "Django Shell-Plus",
   "language": "python",
   "name": "django_extensions"
  },
  "language_info": {
   "codemirror_mode": {
    "name": "ipython",
    "version": 3
   },
   "file_extension": ".py",
   "mimetype": "text/x-python",
   "name": "python",
   "nbconvert_exporter": "python",
   "pygments_lexer": "ipython3",
   "version": "3.6.9"
  }
 },
 "nbformat": 4,
 "nbformat_minor": 4
}
